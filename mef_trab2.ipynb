{
  "metadata": {
    "kernelspec": {
      "name": "python",
      "display_name": "Python (Pyodide)",
      "language": "python"
    },
    "language_info": {
      "codemirror_mode": {
        "name": "python",
        "version": 3
      },
      "file_extension": ".py",
      "mimetype": "text/x-python",
      "name": "python",
      "nbconvert_exporter": "python",
      "pygments_lexer": "ipython3",
      "version": "3.8"
    }
  },
  "nbformat_minor": 5,
  "nbformat": 4,
  "cells": [
    {
      "id": "47687d68-b296-4675-b1fd-befc3e978a59",
      "cell_type": "code",
      "source": "from sympy import symbols, Eq, solve_linear_system, Matrix\nimport numpy as np\nfrom math import pi, sin, sqrt\nimport pandas as pd\nimport sympy as sp\nfrom IPython.display import display, Latex",
      "metadata": {
        "trusted": true
      },
      "outputs": [],
      "execution_count": 1
    },
    {
      "id": "3f59a8d2-d88f-42e4-8537-aa32f5037bf5",
      "cell_type": "code",
      "source": "pd.set_option('display.max_rows', None)  \npd.set_option('display.max_columns', None)\npd.set_option('display.float_format', '{:.5f}'.format)\n\nnp.set_printoptions(\n    threshold=np.inf, \n    linewidth=np.inf,   \n    precision=5,      \n    suppress=True      \n)\n\n#CONSTANTES DO PROBLEMA\nm = 8    #NÚMERO DE NÓS DE INTERPOLAÇÃO\nalfa = 1; beta = 2\nc = 0; d = 2\nh = (d - c)/(m - 1)\nnel = m - 1\n\n#FUNÇÃO f(x) ENCONTRADA A PARTIR DA FORMULAÇÃO FORTE\ndef f(x):\n    return ((pi**2)/4 + 2) * sin((pi*x)/2)\n\n#FUNÇÃO u(x) \ndef u(x):\n    return sin((pi*x)/2)\n\n#FUNÇÕES BASE DE LAGRANGE LINEAR\ndef phi1e(xi):\n    return (1-xi)/2\n\ndef phi2e(xi):\n    return (1+xi)/2\n\n# FUNÇÃO QUE RETORNA UM VETOR COM TODOS OS NÓS GLOBAIS\n\ndef calcular_vetor_nos_globais(m,h):\n    H = np.zeros((m,1))\n    for i in range(m):\n        H[i][0] = h*i\n    return H\n\n# FUNÇÃO QUE RETORNA A MATRIZ DE RIGIDEZ LOCAL Ke\ndef calcular_matriz_local_Ke(alfa, beta, h):\n    Ke = np.zeros((2,2))\n    Ke[0,0] = alfa/h + beta*h/3\n    Ke[0,1] = -alfa/h + beta*h/6\n    Ke[1,0] = Ke[0,1]  \n    Ke[1,1] = Ke[0,0] \n    return Ke\n\n# FUNÇÃO QUE RETORNA O VETOR FORÇA LOCAL Fe (USANDO A QUADRATURA GAUSSIANA npg = 2)\ndef calcular_vetor_forca_local_Fe(f, h, x_e):\n    Fe = np.zeros((2,1))\n    \n    # PONTOS DE GAUSS\n    xi1 = -sqrt(3)/3\n    xi2 = sqrt(3)/3\n    \n    #ELEMENTO ATUAL [x_e, x_e+h]\n    x1 = x_e + (h/2)*(xi1 + 1)\n    x2 = x_e + (h/2)*(xi2 + 1)\n    \n    # CÁLCULO DOS ELEMENTOS DO VETOR FORÇA LOCAL Fe\n    Fe[0,0] = (h/4)*(f(x1)*(1 + sqrt(3)/3) + f(x2)*(1 - sqrt(3)/3))\n    Fe[1,0] = (h/4)*(f(x1)*(1 - sqrt(3)/3) + f(x2)*(1 + sqrt(3)/3))\n    \n    return Fe\n\ndef lista_vetores_forca_local_Fe(nel, h, f):\n    lista_Fe = []  \n    for e in range(nel):\n        x_e = e * h  # PONTO DE PARTIDA\n        Fe = calcular_vetor_forca_local_Fe(f, h, x_e)\n        lista_Fe.append(Fe)\n    return lista_Fe\n\ndef vetorEQ(m):\n    EQ = np.zeros(m, dtype=int) \n    EQ[0] = 0  \n    EQ[m-1] = 0 \n    for i in range(1, m-1):  \n        EQ[i] = i \n    return EQ\n\ndef matrizLG(nel):    \n    LG = np.zeros((2, nel), dtype=int)\n    for e in range(nel): \n        LG[0, e] = e + 1  \n        LG[1, e] = e + 2\n    return LG\n\ndef montar_matriz_global_K(m, nel, alfa, beta, h): \n    K = np.zeros((m, m))\n    Ke = calcular_matriz_local_Ke(alfa, beta, h) \n    EQ = vetorEQ(m) \n    LG = matrizLG(nel)\n\n    for e in range(nel):  \n        for a in range(2):  \n            for b in range(2):\n                i = EQ[LG[a, e] - 1]\n                j = EQ[LG[b, e] - 1]\n                if i != 0 and j != 0: \n                    K[i , j] += Ke[a, b] \n    return K\n\ndef montar_vetor_forca_global_F(m, nel, h, f):\n    F = np.zeros((m, 1))\n    EQ = vetorEQ(m)\n    LG = matrizLG(nel)\n    \n    for e in range(nel):\n        x_e = e * h\n        Fe = calcular_vetor_forca_local_Fe(f, h, x_e)\n        for a in range(2):\n            i = EQ[LG[a, e] - 1]\n            if i != 0:\n                F[i, 0] += Fe[a, 0]\n    return F\n\ndef calcular_vetor_solucao_verdadeira(m, u, h):\n    S = np.zeros((m,1))\n    for i in range(len(S)):\n        S[i][0] = u(h*i)\n    return S\n\ndef calcular_vetor_erro_abs_nos_globais(vetor_u_h, u,h):\n    E =  np.zeros((m,1)) \n    for i in range(len(vetor_u_h)):\n        E[i,0] = abs(vetor_u_h[i][0] - u(h*i))\n    return E",
      "metadata": {
        "scrolled": true,
        "trusted": true
      },
      "outputs": [],
      "execution_count": 2
    },
    {
      "id": "d933399a-8dba-4078-bc5d-6d6db919a4e9",
      "cell_type": "code",
      "source": "# VARIÁVEIS DO PROBLEMA\n\nEQ = vetorEQ(m)\nLG = matrizLG(nel)\nKe = calcular_matriz_local_Ke(alfa, beta, h) #USADO NA QUESTAO c\nlista_Fe = lista_vetores_forca_local_Fe(nel, h, f)  #USADO NA QUESTAO c\nvetor_nos_globais = calcular_vetor_nos_globais(m,h)\nK_global = montar_matriz_global_K(m, nel, alfa, beta, h) #USADO NA QUESTAO d\nF_global = montar_vetor_forca_global_F(m, nel, h, f) #USADO NA QUESTAO d\nK_reduzida = K_global[1:-1, 1:-1] #USADO NA QUESTAO d\nF_reduzido =  F_global[1:-1] #USADO NA QUESTAO d\nvetor_solucao_aprox_reduzido = np.linalg.solve(K_reduzida, F_reduzido)  #USADO NA QUESTAO e\nvetor_solucao_aprox = np.vstack(([[0]], vetor_solucao_aprox_reduzido,[[0]]))  #USADO NA QUESTAO e\nvetor_u = calcular_vetor_solucao_verdadeira(m, u, h)  #USADO NA QUESTAO f\nvetor_erro = calcular_vetor_erro_abs_nos_globais(vetor_solucao_aprox, u, h) #USADO NA QUESTAO f\nproduto_interno = np.dot(vetor_solucao_aprox.T, vetor_solucao_aprox) #USADO NA QUESTAO g\nnorma_discreta = np.sqrt(h*produto_interno) #USADO NA QUESTAO g",
      "metadata": {
        "trusted": true
      },
      "outputs": [],
      "execution_count": 3
    },
    {
      "id": "6e21f0df-327d-4849-8e50-fbdadb2fe4c4",
      "cell_type": "code",
      "source": "#PRINTS\n\n#MATRIZ LG E VETOR EG\nprint(\"\\nVetor EQ:\")\nprint(EQ)\nprint(\"\\nMatriz LG:\")\nprint(LG)\n\n#MATRIZ LOCAL Ke\nprint(\"\\nMatriz Local Ke:\")\nprint(Ke)\n\n#TODOS OS VETORES FORCA LOCAL Fe\nprint(\"Vetor Local Fe:\")\nfor e in range(nel):\n    print(f\"F{e + 1} =\\n {lista_Fe[e].round(5)}\")\n\n# MATRIZ GLOBAL K\nprint(\"\\nMatriz Global:\")\nprint(montar_matriz_global_K(m, nel, alfa, beta, h))\n\n# VETOR FORCA F\nprint(\"\\nVetor Força Global:\")\nprint(montar_vetor_forca_global_F(m, nel, h, f))\n\n# VETOR c SOLUCAO DO SISTEMA:\nprint(\"\\nVetor solução aproximada:\")\nprint(vetor_solucao_aprox)\n\n#VETOR COM A SOLUCAO EXATA\nprint(\"\\nVetor solução verdadeira:\")\nprint(vetor_u)\n\n#VETRO COM OS ERROS ABS\nprint(\"\\nVetor de Erros absolutos:\")\nprint(vetor_erro)\n\n#NORMA DISCRETA\nprint(\"\\nNorma discreta:\")\nprint(norma_discreta)",
      "metadata": {
        "trusted": true
      },
      "outputs": [
        {
          "name": "stdout",
          "output_type": "stream",
          "text": "\nVetor EQ:\n[ 0  1  2  3  4  5  6  7  8  9 10 11 12 13 14  0]\n\nMatriz LG:\n[[ 1  2  3  4  5  6  7  8  9 10 11 12 13 14 15]\n [ 2  3  4  5  6  7  8  9 10 11 12 13 14 15 16]]\n\nMatriz Local Ke:\n[[ 7.58889 -7.45556]\n [-7.45556  7.58889]]\nVetor Local Fe:\nF1 =\n [[0.02074]\n [0.04141]]\nF2 =\n [[0.08198]\n [0.10175]]\nF3 =\n [[0.13964]\n [0.15764]]\nF4 =\n [[0.1912 ]\n [0.20664]]\nF5 =\n [[0.2344 ]\n [0.24661]]\nF6 =\n [[0.26736]\n [0.27581]]\nF7 =\n [[0.28863]\n [0.29295]]\nF8 =\n [[0.29728]\n [0.29728]]\nF9 =\n [[0.29295]\n [0.28863]]\nF10 =\n [[0.27581]\n [0.26736]]\nF11 =\n [[0.24661]\n [0.2344 ]]\nF12 =\n [[0.20664]\n [0.1912 ]]\nF13 =\n [[0.15764]\n [0.13964]]\nF14 =\n [[0.10175]\n [0.08198]]\nF15 =\n [[0.04141]\n [0.02074]]\n\nMatriz Global:\n[[ 0.       0.       0.       0.       0.       0.       0.       0.       0.       0.       0.       0.       0.       0.       0.       0.     ]\n [ 0.      15.17778 -7.45556  0.       0.       0.       0.       0.       0.       0.       0.       0.       0.       0.       0.       0.     ]\n [ 0.      -7.45556 15.17778 -7.45556  0.       0.       0.       0.       0.       0.       0.       0.       0.       0.       0.       0.     ]\n [ 0.       0.      -7.45556 15.17778 -7.45556  0.       0.       0.       0.       0.       0.       0.       0.       0.       0.       0.     ]\n [ 0.       0.       0.      -7.45556 15.17778 -7.45556  0.       0.       0.       0.       0.       0.       0.       0.       0.       0.     ]\n [ 0.       0.       0.       0.      -7.45556 15.17778 -7.45556  0.       0.       0.       0.       0.       0.       0.       0.       0.     ]\n [ 0.       0.       0.       0.       0.      -7.45556 15.17778 -7.45556  0.       0.       0.       0.       0.       0.       0.       0.     ]\n [ 0.       0.       0.       0.       0.       0.      -7.45556 15.17778 -7.45556  0.       0.       0.       0.       0.       0.       0.     ]\n [ 0.       0.       0.       0.       0.       0.       0.      -7.45556 15.17778 -7.45556  0.       0.       0.       0.       0.       0.     ]\n [ 0.       0.       0.       0.       0.       0.       0.       0.      -7.45556 15.17778 -7.45556  0.       0.       0.       0.       0.     ]\n [ 0.       0.       0.       0.       0.       0.       0.       0.       0.      -7.45556 15.17778 -7.45556  0.       0.       0.       0.     ]\n [ 0.       0.       0.       0.       0.       0.       0.       0.       0.       0.      -7.45556 15.17778 -7.45556  0.       0.       0.     ]\n [ 0.       0.       0.       0.       0.       0.       0.       0.       0.       0.       0.      -7.45556 15.17778 -7.45556  0.       0.     ]\n [ 0.       0.       0.       0.       0.       0.       0.       0.       0.       0.       0.       0.      -7.45556 15.17778 -7.45556  0.     ]\n [ 0.       0.       0.       0.       0.       0.       0.       0.       0.       0.       0.       0.       0.      -7.45556 15.17778  0.     ]\n [ 0.       0.       0.       0.       0.       0.       0.       0.       0.       0.       0.       0.       0.       0.       0.       0.     ]]\n\nVetor Força Global:\n[[0.     ]\n [0.12339]\n [0.24139]\n [0.34884]\n [0.44104]\n [0.51397]\n [0.56443]\n [0.59023]\n [0.59023]\n [0.56443]\n [0.51397]\n [0.44104]\n [0.34884]\n [0.24139]\n [0.12339]\n [0.     ]]\n\nVetor solução aproximada:\n[[0.     ]\n [0.20825]\n [0.4074 ]\n [0.58875]\n [0.74436]\n [0.86744]\n [0.95261]\n [0.99615]\n [0.99615]\n [0.95261]\n [0.86744]\n [0.74436]\n [0.58875]\n [0.4074 ]\n [0.20825]\n [0.     ]]\n\nVetor solução verdadeira:\n[[0.     ]\n [0.20791]\n [0.40674]\n [0.58779]\n [0.74314]\n [0.86603]\n [0.95106]\n [0.99452]\n [0.99452]\n [0.95106]\n [0.86603]\n [0.74314]\n [0.58779]\n [0.40674]\n [0.20791]\n [0.     ]]\n\nVetor de Erros absolutos:\n[[0.     ]\n [0.00034]\n [0.00067]\n [0.00096]\n [0.00122]\n [0.00142]\n [0.00156]\n [0.00163]\n [0.00163]\n [0.00156]\n [0.00142]\n [0.00122]\n [0.00096]\n [0.00067]\n [0.00034]\n [0.     ]]\n\nNorma discreta:\n[[1.00164]]\n"
        }
      ],
      "execution_count": 4
    },
    {
      "id": "d874c4e1-5565-4850-969f-02dd191b27fa",
      "cell_type": "code",
      "source": "#CODIGO ABAIXO APENAS PARA VISUALIZACAO EM LATEX",
      "metadata": {
        "trusted": true
      },
      "outputs": [],
      "execution_count": 5
    },
    {
      "id": "3016f291-ebf6-4449-9b3a-637ade4af45a",
      "cell_type": "code",
      "source": "# #(c) VETOR LOCAL Ke\n# display(Latex(r\"$\\mathbf{Matriz\\ local\\ K^e\\ } $\"))\n# matriz_Ke_latex = sp.latex(sp.Matrix(Ke.round(5))) \n# display(Latex(fr\"\"\"$K^e = {matriz_Ke_latex}$\"\"\"))\n\n# #(c) VETORES LOCAIS Fe\n\n# display(Latex(r\"$\\mathbf{Vetores\\ locais\\ F^e\\ } $\"))\n# for e in range(nel):\n#     Fe_latex = sp.latex(sp.Matrix(lista_Fe[e].round(5)))\n#     display(Latex(fr\"\"\"$F^{{{e + 1}}} = {Fe_latex}$\"\"\"))",
      "metadata": {
        "trusted": true
      },
      "outputs": [],
      "execution_count": 6
    },
    {
      "id": "ffe07090-ade5-4886-818c-7f69b2ab4ecc",
      "cell_type": "code",
      "source": "# #(d) MATRIZ GLOBAL K\n# matriz_K_global_latex = sp.latex(sp.Matrix(K_global.round(5)))\n# display(Latex(r\"$\\mathbf{Matriz\\ global\\ K\\ } $\"))\n# display(Latex(f\"$K = {matriz_K_global_latex}$\"))\n\n# #(d) VETOR FORÇA GLOBAL F\n# display(Latex(r\"$\\mathbf{Vetor\\ força\\ global\\ F\\ } $\"))\n# vetor_forca_global_latex = sp.latex(sp.Matrix(F_global.round(5)))\n# display(Latex(f\"$F = {vetor_forca_global_latex}$\"))",
      "metadata": {
        "trusted": true
      },
      "outputs": [],
      "execution_count": 7
    },
    {
      "id": "22c6e7b4-68f2-47f3-95fd-b709239bab7c",
      "cell_type": "code",
      "source": "# #(e) SOLUÇÃO APROXIMADA\n# vetor_solucao_aprox_transposto = vetor_solucao_aprox.T\n# vetor_solucao_aprox_transposto_latex = sp.latex(sp.Matrix(vetor_solucao_aprox_transposto.round(5)))\n# display(Latex(r\"$\\mathbf{Solução\\ aproximada\\ } c^T:$\"))\n# display(Latex(f\"$c^T = {vetor_solucao_aprox_transposto_latex}$\"))",
      "metadata": {
        "trusted": true
      },
      "outputs": [],
      "execution_count": 8
    },
    {
      "id": "6c6c5e81-21d3-4f87-8048-fc1e93c43f19",
      "cell_type": "code",
      "source": "# #(f) VETOR ERRO\n# u_latex = sp.latex(sp.Matrix(vetor_u.round(5)))\n# uh_latex = sp.latex(sp.Matrix(vetor_solucao_aprox.round(5)))\n# vetor_erro_latex = sp.latex(sp.Matrix(vetor_erro.round(5)))\n\n# codigo_latex_erro = fr\"\"\"\n# \\[\n# \\underset{{\\text{{Solução Exata }} u(x)}}{{{u_latex}}} \\hspace{{0.8cm}}\n# \\underset{{\\text{{Solução Aproximada }} u_h(x)}}{{{uh_latex}}} \\hspace{{0.8cm}}\n# \\underset{{\\text{{Erro Absoluto }} |u - u_h|}}{{{vetor_erro_latex}}}\n# \\]\n# \"\"\"\n# display(Latex(r\"$\\mathbf{Vetor\\ contendo\\ todos\\ os\\ erros\\ absolutos:} $\"))\n# display(Latex(codigo_latex_erro))",
      "metadata": {
        "trusted": true,
        "scrolled": true
      },
      "outputs": [],
      "execution_count": 9
    },
    {
      "id": "5e8e7d54-9044-46d8-abaf-abadea07a83e",
      "cell_type": "code",
      "source": "# #(g) NORMA DISCRETA DO ERRO\n\n# display(Latex(\n#     r\"\\begin{gather*}\"\n#     r\"\\mathbf{Norma\\ discreta\\ do\\ erro\\ em\\ } L^2(0,2): \\\\\"\n#     r\"\\sqrt{h \\cdot E^T \\cdot E} = \" + f\"{norma_discreta[0][0].round(5)}\"\n#     r\"\\end{gather*}\"\n# ))",
      "metadata": {
        "trusted": true
      },
      "outputs": [],
      "execution_count": 10
    }
  ]
}