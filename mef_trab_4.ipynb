{
  "metadata": {
    "kernelspec": {
      "name": "python",
      "display_name": "Python (Pyodide)",
      "language": "python"
    },
    "language_info": {
      "codemirror_mode": {
        "name": "python",
        "version": 3
      },
      "file_extension": ".py",
      "mimetype": "text/x-python",
      "name": "python",
      "nbconvert_exporter": "python",
      "pygments_lexer": "ipython3",
      "version": "3.8"
    }
  },
  "nbformat_minor": 4,
  "nbformat": 4,
  "cells": [
    {
      "cell_type": "code",
      "source": "from sympy import symbols, diff, sin\nimport math\nimport numpy as np\nfrom scipy import integrate\n\n#VARIAVEIS DO PROBLEMA\nelementos = [\n    [1, 2, 6, 5],\n    [2, 3, 7, 6],\n    [3, 4, 8, 7]\n]\n#NUMERO DE ELEMENTOS\nnel = 3\n#NUMERO DE NOS\nN_no = 8\n#NOS PRESCRITOS\nN_p = [1,4,5,8]\n#NUMERO DE EQUACOES\nN_eq = N_no - len(N_p)\n#CONSTANTE\nk = 1\n\n# COORDENADA X DE CADA ELEMENTO\nx_no_el_1 = [0, 1/3, 1/3, 0]\nx_no_el_2 = [1/3, 2/3, 2/3, 1/3]\nx_no_el_3 = [2/3, 1, 1, 2/3]\n\n# COORDENADA Y DE CADA ELEMENTO\ny_no_el_1 = [0, 0, 1/3, 1/3]\ny_no_el_2 = [0, 0, 1/3, 1/3]\ny_no_el_3 = [0, 0, 1/3, 1/3]\n\n# MATRIZ JACOBIANA\ndef calcular_jacobiano(xi, eta, x_no_el, y_no_el):\n    x_xi = (1/4) * np.dot([-(1-eta), (1-eta), (1+eta), -(1+eta)], x_no_el)\n    y_xi = (1/4) * np.dot([-(1-eta), (1-eta), (1+eta), -(1+eta)], y_no_el)\n    x_eta = (1/4) * np.dot([-(1-xi), -(1+xi), (1+xi), (1-xi)], x_no_el)\n    y_eta = (1/4) * np.dot([-(1-xi), -(1+xi), (1+xi), (1-xi)], y_no_el)\n    \n    J = np.array([\n        [x_xi, x_eta],\n        [y_xi, y_eta]\n    ])\n    return J\n\n#FUNCAO U(X) DO PROBLEMA\ndef u(x): \n    return 100*np.sin((np.pi*x)/2)\n\n#FUNCOES BASE\ndef phi(a, xi, eta):\n    if a == 1: \n        return 0.25*(1-xi)*(1-eta)\n    if a == 2: \n        return 0.25*(1+xi)*(1-eta)\n    if a == 3: \n        return 0.25*(1+xi)*(1+eta)\n    if a == 4: \n        return 0.25*(1-xi)*(1+eta)\n\n#GRADIENTE DAS FUNCOES BASE\ndef gradiente_phi(a, xi, eta):\n    if a == 1: \n        return np.array([-0.25*(1-eta), -0.25*(1-xi)])\n    if a == 2: \n        return np.array([0.25*(1-eta), -0.25*(1+xi)])\n    if a == 3: \n        return np.array([0.25*(1+eta), 0.25*(1+xi)])\n    if a == 4: \n        return np.array([-0.25*(1+eta), 0.25*(1-xi)])\n\n#PESOS E PONTOS DE GAUSS\npontos_gauss = [-1/np.sqrt(3), 1/np.sqrt(3)]\npesos_gauss = [1.0, 1.0]\n\n#MATRIZ K2 E K2 OBTIDAS DA DESCRICAO DA ALTERNATIVA C\nK2 = np.array([\n    [2/3, -1/6, -1/3, -1/6],\n    [-1/6, 2/3, -1/6, -1/3],\n    [-1/3, -1/6, 2/3, -1/6],\n    [-1/6, -1/3, -1/6, 2/3]\n])\n\nK3 = K2",
      "metadata": {
        "trusted": true
      },
      "outputs": [],
      "execution_count": 1
    },
    {
      "cell_type": "code",
      "source": "#CONSTRUINDO VETOR EQ\ndef definir_vetorEQ(N_no, N_p):\n    vetorEQ = np.zeros(N_no, dtype=int)\n    contador = 1\n    for i in range(N_no):\n        if (i + 1) not in N_p:\n            vetorEQ[i] = contador\n            contador += 1\n        else:\n            vetorEQ[i] = 0\n    return vetorEQ\n\n\nvetorEQ = definir_vetorEQ(N_no, N_p)\nprint(\"VETOR EQ:\\n\")\nprint(vetorEQ)",
      "metadata": {
        "trusted": true
      },
      "outputs": [
        {
          "name": "stdout",
          "output_type": "stream",
          "text": "VETOR EQ:\n\n[0 1 2 0 0 3 4 0]\n"
        }
      ],
      "execution_count": 13
    },
    {
      "cell_type": "code",
      "source": "#CONSTRUINDO MATRIZ LG\ndef definir_matrizLG(elementos):\n    matrizLG = np.array(elementos)\n    return matrizLG.T\n\nmatrizLG = definir_matrizLG(elementos)\n\nprint(\"MATRIZ LG:\\n\")\nprint(matrizLG)",
      "metadata": {
        "trusted": true
      },
      "outputs": [
        {
          "name": "stdout",
          "output_type": "stream",
          "text": "MATRIZ LG:\n\n[[1 2 3]\n [2 3 4]\n [6 7 8]\n [5 6 7]]\n"
        }
      ],
      "execution_count": 14
    },
    {
      "cell_type": "code",
      "source": "# MATRIZ LOCAL K1\ndef calcular_matriz_local_K1():\n    K = np.zeros((4,4))\n    for a in range(4):\n        for b in range(4):\n            soma = 0\n            for i in range(2):\n                for j in range(2):\n                    #APLICANDO PONTOS E PESOS DE GAUSS\n                    xi = pontos_gauss[i]\n                    eta = pontos_gauss[j]\n                    wi = pesos_gauss[i]\n                    wj = pesos_gauss[j]\n\n                    # CALCULO DA MATRIZ JABIANA, INVERSA E DETERMINATE\n                    J = calcular_jacobiano(xi, eta, x_no_el_1, y_no_el_1)\n                    J_inv = np.linalg.inv(J)\n                    J_inv_T = J_inv.T\n                    det_J = np.linalg.det(J)\n\n                    #CALCULO DO GRADIENTE\n                    gradiente_phi_a = gradiente_phi(a+1, xi, eta)\n                    gradiente_phi_b = gradiente_phi(b+1, xi, eta)\n\n                    #PASSANDO PARA O DOMINIO OMEGA B BARRA\n                    gradiente_phi_a_omega_b = np.dot(J_inv_T, gradiente_phi_a)\n                    gradiente_phi_b_omega_b = np.dot(J_inv_T, gradiente_phi_b)\n\n                    soma += wi*wj*k*np.dot(gradiente_phi_a_omega_b, gradiente_phi_b_omega_b)*det_J\n            K[a, b] = soma\n    return K\n\n\nK1 = calcular_matriz_local_K1()\nprint(\"MATRIZ LOCAL K1:\")\nprint(np.round(K1, 4))",
      "metadata": {
        "trusted": true
      },
      "outputs": [
        {
          "name": "stdout",
          "output_type": "stream",
          "text": "Matriz local K1:\n[[ 0.6667 -0.1667 -0.3333 -0.1667]\n [-0.1667  0.6667 -0.1667 -0.3333]\n [-0.3333 -0.1667  0.6667 -0.1667]\n [-0.1667 -0.3333 -0.1667  0.6667]]\n"
        }
      ],
      "execution_count": 4
    },
    {
      "cell_type": "code",
      "source": "# CALCULO DOS VETORES FORÇA LOCAIS\ndef calcular_soma_de_integrais_f_e(x_no_el, y_no_el):\n    S = np.zeros((4, 4))\n    for a in range(4):\n        for b in range(4):\n            soma = 0\n            for i in range(2):\n                for j in range(2):\n                    \n                    #APLICANDO PONTOS E PESOS DE GAUSS\n                    xi = pontos_gauss[i]\n                    eta = pontos_gauss[j]\n                    wi = pesos_gauss[i]\n                    wj = pesos_gauss[j]\n                    \n                    # CALCULO DA MATRIZ JABIANA\n                    J = calcular_jacobiano(xi, eta, x_no_el, y_no_el)\n                    det_J = np.linalg.det(J)\n                    \n                    soma += wi*wj*phi(a+1, xi, eta)*phi(b+1, xi, eta)*det_J\n            S[a, b] = soma\n    return S\n\n#FAZENDO A SOMA DA QUADRATURA GAUSSIANA PARA CADA ELEMENTO PARA DEPOIS MULTIPLICAR POR F APLICADA EM CADA NO/PONTO DO ELEMENTO\nsoma_de_integrais_el1 = calcular_soma_de_integrais_f_e(x_no_el_1, y_no_el_1)\nsoma_de_integrais_el2 = calcular_soma_de_integrais_f_e(x_no_el_2, y_no_el_2)\nsoma_de_integrais_el3 = calcular_soma_de_integrais_f_e(x_no_el_3, y_no_el_3)\n\n#FUNCAO QUE APLICA A FUNCAO F EM CADA NO/PONTO DO ELEMENTO\ndef f_em_cada_no(x_no):\n    return 25 * np.pi**2 * np.sin(np.pi * np.array(x_no) / 2)\n\n#MULTIPLICANDO CADA SOMA PELA F APLICADA EM CADA NO/PONTO DO ELEMENTO\nf1 = soma_de_integrais_el1.dot(f_em_cada_no(x_no_el_1))\nf2 = soma_de_integrais_el2.dot(f_em_cada_no(x_no_el_2))\nf3 = soma_de_integrais_el3.dot(f_em_cada_no(x_no_el_3))\n\n#PARTE PRESCRITA\np1 = np.zeros(4)\np2 = np.zeros(4)\np3 = np.array([0, 100, 100, 0])\n\n#RESULTADO FINAL DE CADA VETOR FORCA LOCAL\nF1 =(f1 - K1.dot(p1)).reshape(4,1)\nF2 = (f2 - K2.dot(p2)).reshape(4,1)\nF3 = (f3 - K3.dot(p3)).reshape(4,1)\n\n\nprint(\"VETOR F1:\\n\")\nprint(np.round(F1, 4))\nprint(\"\\nVETOR F2:\\n\")\nprint(np.round(F2, 4))\nprint(\"\\nVETOR F3:\\n\")\nprint(np.round(F3, 4))",
      "metadata": {
        "trusted": true,
        "scrolled": true
      },
      "outputs": [
        {
          "name": "stdout",
          "output_type": "stream",
          "text": "VETOR F1:\n\n[[1.1423]\n [2.2846]\n [2.2846]\n [1.1423]]\n\nVETOR F2:\n\n[[4.2632]\n [5.0994]\n [5.0994]\n [4.2632]]\n\nVETOR F3:\n\n[[ 56.2417]\n [-43.4522]\n [-43.4522]\n [ 56.2417]]\n"
        }
      ],
      "execution_count": 19
    },
    {
      "cell_type": "code",
      "source": "#CALCULO DA MATRIZ GLOBAL K\nmatrizes_locais_Ke = [K1, K2, K3]\n\ndef montar_matriz_global_K(EQ,LG, matrizes_locais_Kes): \n    K = np.zeros((N_eq, N_eq))\n    for e in range(nel):  \n        for a in range(4):  \n            for b in range(4):\n                i = int(EQ[LG[a, e] - 1])  \n                j = int(EQ[LG[b, e] - 1]) \n                if i != 0 and j != 0: \n                    K[i - 1, j - 1] += matrizes_locais_Ke[e][a, b]\n    return K.round(4)\n\n\nmatriz_global_K =  montar_matriz_global_K(vetorEQ, matrizLG, matrizes_locais_Ke)\nprint(\"MATRIZ K GLOBAL:\\n\")\nprint(matriz_global_K)",
      "metadata": {
        "trusted": true,
        "tags": [],
        "editable": true,
        "slideshow": {
          "slide_type": ""
        }
      },
      "outputs": [
        {
          "name": "stdout",
          "output_type": "stream",
          "text": "MATRIZ K GLOBAL:\n\n[[ 1.3333 -0.1667 -0.3333 -0.3333]\n [-0.1667  1.3333 -0.3333 -0.3333]\n [-0.3333 -0.3333  1.3333 -0.1667]\n [-0.3333 -0.3333 -0.1667  1.3333]]\n"
        }
      ],
      "execution_count": 20
    },
    {
      "cell_type": "code",
      "source": "#CALCULO DO VETOR FORÇA GLOBAL\nvetores_locais_Fe = [F1, F2, F3]\n\ndef montar_vetor_forca_global_F(EQ,LG,vetores_locais_Fe):\n    F = np.zeros((N_eq, 1))\n    for e in range(nel):\n        Fe = vetores_locais_Fe[e].reshape((4, 1))\n        for a in range(4):  \n            i = EQ[LG[a, e] - 1] \n            if i != 0:\n                F[i - 1, 0] += Fe[a, 0]\n    return F\n\nvetor_global_F = montar_vetor_forca_global_F(vetorEQ, matrizLG, vetores_locais_Fe)\nprint(\"VETOR FORÇA GLOBAL F:\\n\")\nprint(np.round(vetor_global_F, 4))",
      "metadata": {
        "trusted": true
      },
      "outputs": [
        {
          "name": "stdout",
          "output_type": "stream",
          "text": "VETOR FORÇA GLOBAL F:\n\n[[ 6.5478]\n [61.3411]\n [ 6.5478]\n [61.3411]]\n"
        }
      ],
      "execution_count": 22
    },
    {
      "cell_type": "code",
      "source": "#SOLUCAO\nc = np.linalg.solve(matriz_global_K, vetor_global_F).round(4)\nprint(\"\\nVETOR SOLUÇÃO APROXIMADA:\\n\" )\nprint(c)",
      "metadata": {
        "trusted": true
      },
      "outputs": [
        {
          "name": "stdout",
          "output_type": "stream",
          "text": "\nVETOR SOLUÇÃO APROXIMADA:\n\n[[49.6245]\n [86.1534]\n [49.6245]\n [86.1534]]\n"
        }
      ],
      "execution_count": 23
    }
  ]
}